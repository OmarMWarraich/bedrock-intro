{
 "cells": [
  {
   "cell_type": "code",
   "execution_count": 5,
   "metadata": {},
   "outputs": [],
   "source": [
    "import boto3, json\n",
    "\n",
    "bedrock_runtime = boto3.client(\n",
    "    service_name = 'bedrock-runtime',\n",
    "    region_name = 'us-east-1'\n",
    ")"
   ]
  },
  {
   "cell_type": "code",
   "execution_count": 6,
   "metadata": {},
   "outputs": [],
   "source": [
    "prompt = \"Write an article about the fictional planet Foobar.\""
   ]
  },
  {
   "cell_type": "code",
   "execution_count": 7,
   "metadata": {},
   "outputs": [
    {
     "name": "stdout",
     "output_type": "stream",
     "text": [
      "{'modelId': 'anthropic.claude-v2', 'contentType': 'application/json', 'accept': '*/*', 'body': '{\"prompt\":\"\\\\n\\\\nHuman: Write an article about the fictional planet Foobar.\\\\n\\\\nAssistant:\",\"max_tokens_to_sample\":300,\"temperature\":0.5,\"top_k\":250,\"top_p\":1,\"stop_sequences\":[\"\\\\n\\\\nHuman:\"],\"anthropic_version\":\"bedrock-2023-05-31\"}'}\n"
     ]
    }
   ],
   "source": [
    "kwargs = {\n",
    "  \"modelId\": \"anthropic.claude-v2\",\n",
    "  \"contentType\": \"application/json\",\n",
    "  \"accept\": \"*/*\",\n",
    "  \"body\": \"{\\\"prompt\\\":\\\"\\\\n\\\\nHuman: \" + prompt + \"\\\\n\\\\nAssistant:\\\",\\\"max_tokens_to_sample\\\":300,\\\"temperature\\\":0.5,\\\"top_k\\\":250,\\\"top_p\\\":1,\\\"stop_sequences\\\":[\\\"\\\\n\\\\nHuman:\\\"],\\\"anthropic_version\\\":\\\"bedrock-2023-05-31\\\"}\"\n",
    "}\n",
    "\n",
    "print(kwargs)"
   ]
  },
  {
   "cell_type": "code",
   "execution_count": 11,
   "metadata": {},
   "outputs": [
    {
     "name": "stdout",
     "output_type": "stream",
     "text": [
      " Here is a draft article about the fictional planet Foobar:\n",
      "\n",
      "Foobar: The Mysterious Planet of Wonder\n",
      "\n",
      "Far beyond our solar system lies the mysterious planet of Foobar. This enigmatic world has fascinated astronomers and science fiction enthusiasts for decades, though little is known about what actually lies on its surface. \n",
      "\n",
      "Foobar was first discovered in the early 21st century when scientists picked up unusual radio signals coming from a distant point in space. Further investigation revealed these signals were emanating from a small, rocky planet orbiting a red dwarf star. The planet was named Foobar after the nonsensical term used in computer programming.\n",
      "\n",
      "While Foobar is relatively close to Earth in astronomical terms at just 42 lightyears away, the planet is incredibly difficult to study. It is perpetually shrouded in thick clouds, making surface observations impossible. Scientists have tantalizingly brief glimpses of the surface when the clouds occasionally break, revealing massive oceans and strange landmasses unlike anything seen on Earth. \n",
      "\n",
      "Some speculate that Foobar is a ocean planet, with little land and vast seas filled with exotic marine life. Others believe it may be volcanic world, with active magma flows and mountains spewing ash across the atmosphere. But until we can get a clearer view of the surface, Foobar's geology remains a mystery. \n",
      "\n",
      "The real curiosity about Foobar lies in the possibility of life. The radio signals that initially revealed the planet's existence suggest there"
     ]
    }
   ],
   "source": [
    "response = bedrock_runtime.invoke_model_with_response_stream(**kwargs)\n",
    "\n",
    "stream = response.get('body')\n",
    "\n",
    "if stream:\n",
    "    for event in stream:\n",
    "        chunk = event.get('chunk')\n",
    "        if chunk:\n",
    "            print(json.loads(chunk.get('bytes')).get('completion'), end=\"\")"
   ]
  }
 ],
 "metadata": {
  "kernelspec": {
   "display_name": "myenv",
   "language": "python",
   "name": "python3"
  },
  "language_info": {
   "codemirror_mode": {
    "name": "ipython",
    "version": 3
   },
   "file_extension": ".py",
   "mimetype": "text/x-python",
   "name": "python",
   "nbconvert_exporter": "python",
   "pygments_lexer": "ipython3",
   "version": "3.12.3"
  }
 },
 "nbformat": 4,
 "nbformat_minor": 2
}
