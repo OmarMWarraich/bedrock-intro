{
 "cells": [
  {
   "cell_type": "code",
   "execution_count": 1,
   "metadata": {},
   "outputs": [],
   "source": [
    "import boto3, json\n",
    "\n",
    "bedrock_runtime = boto3.client(\n",
    "    service_name = 'bedrock-runtime',\n",
    "    region_name = 'us-east-1'\n",
    ")"
   ]
  },
  {
   "cell_type": "code",
   "execution_count": 2,
   "metadata": {},
   "outputs": [],
   "source": [
    "prompt = \"\"\"We gave recieved some text without any context.\n",
    "We need to label the text with a title so that others can quickly see what the textr is about.\n",
    "\n",
    "Here is the text between these <text></text> XML tags:\n",
    "\n",
    "<text>\n",
    "    Today I went to the beach and saw a whale. I ate an ice-cream and swam in the sea.\n",
    "</text>\n",
    "\n",
    "Provide the title between <title></title> XML tags: \n",
    "\"\"\".encode('unicode_escape').decode('utf-8')"
   ]
  },
  {
   "cell_type": "code",
   "execution_count": 5,
   "metadata": {},
   "outputs": [
    {
     "name": "stdout",
     "output_type": "stream",
     "text": [
      "{'modelId': 'anthropic.claude-v2', 'contentType': 'application/json', 'accept': '*/*', 'body': '{\"prompt\":\"\\\\n\\\\nHuman: We gave recieved some text without any context.\\\\nWe need to label the text with a title so that others can quickly see what the textr is about.\\\\n\\\\nHere is the text between these <text></text> XML tags:\\\\n\\\\n<text>\\\\n    Today I went to the beach and saw a whale. I ate an ice-cream and swam in the sea.\\\\n</text>\\\\n\\\\nProvide the title between <title></title> XML tags: \\\\n\\\\n\\\\nAssistant:\",\"max_tokens_to_sample\":300,\"temperature\":0.5,\"top_k\":250,\"top_p\":1,\"stop_sequences\":[\"\\\\n\\\\nHuman:\"],\"anthropic_version\":\"bedrock-2023-05-31\"}'}\n"
     ]
    }
   ],
   "source": [
    "kwargs = {\n",
    "  \"modelId\": \"anthropic.claude-v2\",\n",
    "  \"contentType\": \"application/json\",\n",
    "  \"accept\": \"*/*\",\n",
    "  \"body\": \"{\\\"prompt\\\":\\\"\\\\n\\\\nHuman: \" + prompt + \"\\\\n\\\\nAssistant:\\\",\\\"max_tokens_to_sample\\\":300,\\\"temperature\\\":0.5,\\\"top_k\\\":250,\\\"top_p\\\":1,\\\"stop_sequences\\\":[\\\"\\\\n\\\\nHuman:\\\"],\\\"anthropic_version\\\":\\\"bedrock-2023-05-31\\\"}\"\n",
    "}\n",
    "\n",
    "print(kwargs)"
   ]
  },
  {
   "cell_type": "code",
   "execution_count": 6,
   "metadata": {},
   "outputs": [
    {
     "data": {
      "text/plain": [
       "{'ResponseMetadata': {'RequestId': '48c53354-6f99-4f63-a7e9-147311f0e468',\n",
       "  'HTTPStatusCode': 200,\n",
       "  'HTTPHeaders': {'date': 'Tue, 18 Jun 2024 08:14:50 GMT',\n",
       "   'content-type': 'application/json',\n",
       "   'content-length': '121',\n",
       "   'connection': 'keep-alive',\n",
       "   'x-amzn-requestid': '48c53354-6f99-4f63-a7e9-147311f0e468',\n",
       "   'x-amzn-bedrock-invocation-latency': '783',\n",
       "   'x-amzn-bedrock-output-token-count': '15',\n",
       "   'x-amzn-bedrock-input-token-count': '106'},\n",
       "  'RetryAttempts': 0},\n",
       " 'contentType': 'application/json',\n",
       " 'body': <botocore.response.StreamingBody at 0x7fbe288eada0>}"
      ]
     },
     "execution_count": 6,
     "metadata": {},
     "output_type": "execute_result"
    }
   ],
   "source": [
    "response = bedrock_runtime.invoke_model(**kwargs)\n",
    "\n",
    "response"
   ]
  },
  {
   "cell_type": "code",
   "execution_count": 7,
   "metadata": {},
   "outputs": [
    {
     "data": {
      "text/plain": [
       "{'type': 'completion',\n",
       " 'completion': ' <title>A Day at the Beach</title>',\n",
       " 'stop_reason': 'stop_sequence',\n",
       " 'stop': '\\n\\nHuman:'}"
      ]
     },
     "execution_count": 7,
     "metadata": {},
     "output_type": "execute_result"
    }
   ],
   "source": [
    "response_body = json.loads(response.get('body').read())\n",
    "                           \n",
    "response_body"
   ]
  },
  {
   "cell_type": "code",
   "execution_count": 11,
   "metadata": {},
   "outputs": [
    {
     "data": {
      "text/plain": [
       "' <title>A Day at the Beach</title>'"
      ]
     },
     "execution_count": 11,
     "metadata": {},
     "output_type": "execute_result"
    }
   ],
   "source": [
    "completion = response_body.get('completion')\n",
    "\n",
    "completion"
   ]
  }
 ],
 "metadata": {
  "kernelspec": {
   "display_name": "myenv",
   "language": "python",
   "name": "python3"
  },
  "language_info": {
   "codemirror_mode": {
    "name": "ipython",
    "version": 3
   },
   "file_extension": ".py",
   "mimetype": "text/x-python",
   "name": "python",
   "nbconvert_exporter": "python",
   "pygments_lexer": "ipython3",
   "version": "3.12.3"
  }
 },
 "nbformat": 4,
 "nbformat_minor": 2
}
