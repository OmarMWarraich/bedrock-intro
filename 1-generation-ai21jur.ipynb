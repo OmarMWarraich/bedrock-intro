{
 "cells": [
  {
   "cell_type": "code",
   "execution_count": 11,
   "metadata": {},
   "outputs": [],
   "source": [
    "import boto3, json"
   ]
  },
  {
   "cell_type": "code",
   "execution_count": 12,
   "metadata": {},
   "outputs": [],
   "source": [
    "bedrock_runtime = boto3.client(\n",
    "    service_name='bedrock-runtime',\n",
    "    region_name='us-east-1',\n",
    ")"
   ]
  },
  {
   "cell_type": "code",
   "execution_count": 13,
   "metadata": {},
   "outputs": [],
   "source": [
    "prompt = \"Hello\""
   ]
  },
  {
   "cell_type": "code",
   "execution_count": 14,
   "metadata": {},
   "outputs": [
    {
     "name": "stdout",
     "output_type": "stream",
     "text": [
      "{'modelId': 'ai21.j2-ultra-v1', 'contentType': 'application/json', 'accept': '*/*', 'body': '{\"prompt\":\"Hello\",\"maxTokens\":200,\"temperature\":0.7,\"topP\":1,\"stopSequences\":[],\"countPenalty\":{\"scale\":0},\"presencePenalty\":{\"scale\":0},\"frequencyPenalty\":{\"scale\":0}}'}\n"
     ]
    }
   ],
   "source": [
    "kwargs = {\n",
    "    \"modelId\": \"ai21.j2-ultra-v1\",\n",
    "    \"contentType\": \"application/json\",\n",
    "    \"accept\": \"*/*\",\n",
    "    \"body\": \"{\\\"prompt\\\":\\\"\" + prompt + \"\\\",\\\"maxTokens\\\":200,\\\"temperature\\\":0.7,\\\"topP\\\":1,\\\"stopSequences\\\":[],\\\"countPenalty\\\":{\\\"scale\\\":0},\\\"presencePenalty\\\":{\\\"scale\\\":0},\\\"frequencyPenalty\\\":{\\\"scale\\\":0}}\"\n",
    "}\n",
    "\n",
    "print(kwargs)"
   ]
  },
  {
   "cell_type": "code",
   "execution_count": 15,
   "metadata": {},
   "outputs": [
    {
     "data": {
      "text/plain": [
       "{'ResponseMetadata': {'RequestId': 'ea7cdbe2-401e-4dcc-966c-51db6e8d4dae',\n",
       "  'HTTPStatusCode': 200,\n",
       "  'HTTPHeaders': {'date': 'Tue, 18 Jun 2024 07:54:18 GMT',\n",
       "   'content-type': 'application/json',\n",
       "   'content-length': '2544',\n",
       "   'connection': 'keep-alive',\n",
       "   'x-amzn-requestid': 'ea7cdbe2-401e-4dcc-966c-51db6e8d4dae',\n",
       "   'x-amzn-bedrock-invocation-latency': '608',\n",
       "   'x-amzn-bedrock-output-token-count': '14',\n",
       "   'x-amzn-bedrock-input-token-count': '1'},\n",
       "  'RetryAttempts': 0},\n",
       " 'contentType': 'application/json',\n",
       " 'body': <botocore.response.StreamingBody at 0x7ff742b7b730>}"
      ]
     },
     "execution_count": 15,
     "metadata": {},
     "output_type": "execute_result"
    }
   ],
   "source": [
    "response = bedrock_runtime.invoke_model(**kwargs)\n",
    "\n",
    "response"
   ]
  },
  {
   "cell_type": "code",
   "execution_count": 16,
   "metadata": {},
   "outputs": [
    {
     "data": {
      "text/plain": [
       "{'id': 1234,\n",
       " 'prompt': {'text': 'Hello',\n",
       "  'tokens': [{'generatedToken': {'token': '▁Hello',\n",
       "     'logprob': -6.821861267089844,\n",
       "     'raw_logprob': -6.821861267089844},\n",
       "    'topTokens': None,\n",
       "    'textRange': {'start': 0, 'end': 5}}]},\n",
       " 'completions': [{'data': {'text': '\\nHello, my name is Open Assistant. How may I help you today?',\n",
       "    'tokens': [{'generatedToken': {'token': '<|newline|>',\n",
       "       'logprob': -0.1009962186217308,\n",
       "       'raw_logprob': -0.3665551245212555},\n",
       "      'topTokens': None,\n",
       "      'textRange': {'start': 0, 'end': 1}},\n",
       "     {'generatedToken': {'token': '▁Hello',\n",
       "       'logprob': -0.3568001389503479,\n",
       "       'raw_logprob': -0.6128190755844116},\n",
       "      'topTokens': None,\n",
       "      'textRange': {'start': 1, 'end': 6}},\n",
       "     {'generatedToken': {'token': ',',\n",
       "       'logprob': -0.8380221724510193,\n",
       "       'raw_logprob': -0.8382110595703125},\n",
       "      'topTokens': None,\n",
       "      'textRange': {'start': 6, 'end': 7}},\n",
       "     {'generatedToken': {'token': '▁my▁name▁is',\n",
       "       'logprob': -0.40670934319496155,\n",
       "       'raw_logprob': -0.7939721345901489},\n",
       "      'topTokens': None,\n",
       "      'textRange': {'start': 7, 'end': 18}},\n",
       "     {'generatedToken': {'token': '▁Open',\n",
       "       'logprob': -0.00010549465514486656,\n",
       "       'raw_logprob': -0.003663021605461836},\n",
       "      'topTokens': None,\n",
       "      'textRange': {'start': 18, 'end': 23}},\n",
       "     {'generatedToken': {'token': '▁Assistant',\n",
       "       'logprob': -0.013095798902213573,\n",
       "       'raw_logprob': -0.04765266925096512},\n",
       "      'topTokens': None,\n",
       "      'textRange': {'start': 23, 'end': 33}},\n",
       "     {'generatedToken': {'token': '.',\n",
       "       'logprob': -0.07893821597099304,\n",
       "       'raw_logprob': -0.209433913230896},\n",
       "      'topTokens': None,\n",
       "      'textRange': {'start': 33, 'end': 34}},\n",
       "     {'generatedToken': {'token': '▁How',\n",
       "       'logprob': -0.00292932684533298,\n",
       "       'raw_logprob': -0.020137624815106392},\n",
       "      'topTokens': None,\n",
       "      'textRange': {'start': 34, 'end': 38}},\n",
       "     {'generatedToken': {'token': '▁may',\n",
       "       'logprob': -2.7418097943154862e-06,\n",
       "       'raw_logprob': -0.00020895205670967698},\n",
       "      'topTokens': None,\n",
       "      'textRange': {'start': 38, 'end': 42}},\n",
       "     {'generatedToken': {'token': '▁I',\n",
       "       'logprob': -0.00011216964776394889,\n",
       "       'raw_logprob': -0.0020655503030866385},\n",
       "      'topTokens': None,\n",
       "      'textRange': {'start': 42, 'end': 44}},\n",
       "     {'generatedToken': {'token': '▁help▁you',\n",
       "       'logprob': -0.052358321845531464,\n",
       "       'raw_logprob': -0.12243197113275528},\n",
       "      'topTokens': None,\n",
       "      'textRange': {'start': 44, 'end': 53}},\n",
       "     {'generatedToken': {'token': '▁today',\n",
       "       'logprob': -0.030964108183979988,\n",
       "       'raw_logprob': -0.08562801033258438},\n",
       "      'topTokens': None,\n",
       "      'textRange': {'start': 53, 'end': 59}},\n",
       "     {'generatedToken': {'token': '?',\n",
       "       'logprob': -0.003053647233173251,\n",
       "       'raw_logprob': -0.020250244066119194},\n",
       "      'topTokens': None,\n",
       "      'textRange': {'start': 59, 'end': 60}},\n",
       "     {'generatedToken': {'token': '<|endoftext|>',\n",
       "       'logprob': -0.00014232576359063387,\n",
       "       'raw_logprob': -0.002873936202377081},\n",
       "      'topTokens': None,\n",
       "      'textRange': {'start': 60, 'end': 60}}]},\n",
       "   'finishReason': {'reason': 'endoftext'}}]}"
      ]
     },
     "execution_count": 16,
     "metadata": {},
     "output_type": "execute_result"
    }
   ],
   "source": [
    "response_body = json.loads(response.get('body').read())\n",
    "\n",
    "response_body"
   ]
  },
  {
   "cell_type": "code",
   "execution_count": 17,
   "metadata": {},
   "outputs": [
    {
     "data": {
      "text/plain": [
       "'\\nHello, my name is Open Assistant. How may I help you today?'"
      ]
     },
     "execution_count": 17,
     "metadata": {},
     "output_type": "execute_result"
    }
   ],
   "source": [
    "completion = response_body['completions'][0]['data']['text']\n",
    "\n",
    "completion"
   ]
  },
  {
   "cell_type": "code",
   "execution_count": null,
   "metadata": {},
   "outputs": [],
   "source": []
  }
 ],
 "metadata": {
  "kernelspec": {
   "display_name": "Python 3",
   "language": "python",
   "name": "python3"
  },
  "language_info": {
   "codemirror_mode": {
    "name": "ipython",
    "version": 3
   },
   "file_extension": ".py",
   "mimetype": "text/x-python",
   "name": "python",
   "nbconvert_exporter": "python",
   "pygments_lexer": "ipython3",
   "version": "3.12.3"
  }
 },
 "nbformat": 4,
 "nbformat_minor": 2
}
